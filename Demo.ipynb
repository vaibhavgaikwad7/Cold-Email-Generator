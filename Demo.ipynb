{
 "cells": [
  {
   "cell_type": "code",
   "execution_count": 4,
   "id": "0da671ce-84de-4da0-87fe-3c51e13c6f11",
   "metadata": {},
   "outputs": [],
   "source": [
    "from langchain_groq import ChatGroq\n",
    "\n",
    "llm = ChatGroq(\n",
    "    model_name=\"llama-3.1-8b-instant\",\n",
    "    temperature=0,\n",
    "    groq_api_key='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'\n",
    ")"
   ]
  },
  {
   "cell_type": "code",
   "execution_count": 5,
   "id": "b4de3ebc-3e57-447e-972c-8c08effafe47",
   "metadata": {},
   "outputs": [],
   "source": [
    "response = llm.invoke(\"who is first batman?\")"
   ]
  },
  {
   "cell_type": "code",
   "execution_count": 6,
   "id": "4a59084f-e6ae-4dbf-a7de-fe9660a36bc6",
   "metadata": {},
   "outputs": [
    {
     "name": "stdout",
     "output_type": "stream",
     "text": [
      "The first Batman is Bob Kane and Bill Finger's creation, but the first actor to portray Batman on screen was Lewis Wilson. However, the first actor to portray Batman in a notable and iconic role was Adam West in the 1960s TV series 'Batman.' \n",
      "\n",
      "But if you are asking about the first comic book Batman, it was Bob Kane's original concept, which was inspired by Zorro and other characters. The first appearance of Batman was in Detective Comics #27, published in May 1939.\n"
     ]
    }
   ],
   "source": [
    "print(response.content)"
   ]
  },
  {
   "cell_type": "code",
   "execution_count": null,
   "id": "05c5a28b-8f09-45b9-b1f5-0d89a03242f2",
   "metadata": {},
   "outputs": [],
   "source": []
  }
 ],
 "metadata": {
  "kernelspec": {
   "display_name": "Python 3 (ipykernel)",
   "language": "python",
   "name": "python3"
  },
  "language_info": {
   "codemirror_mode": {
    "name": "ipython",
    "version": 3
   },
   "file_extension": ".py",
   "mimetype": "text/x-python",
   "name": "python",
   "nbconvert_exporter": "python",
   "pygments_lexer": "ipython3",
   "version": "3.13.3"
  }
 },
 "nbformat": 4,
 "nbformat_minor": 5
}
