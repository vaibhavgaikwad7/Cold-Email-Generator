{
 "cells": [
  {
   "cell_type": "code",
   "execution_count": 1,
   "id": "0da671ce-84de-4da0-87fe-3c51e13c6f11",
   "metadata": {},
   "outputs": [],
   "source": [
    "import os\n",
    "from dotenv import load_dotenv\n",
    "from langchain_groq import ChatGroq\n",
    "\n",
    "# Load environment variables from .env file\n",
    "load_dotenv()\n",
    "\n",
    "llm = ChatGroq(\n",
    "    model_name=\"llama-3.1-8b-instant\",\n",
    "    temperature=0,\n",
    "    groq_api_key=os.getenv(\"GROQ_API_KEY\")\n",
    ")"
   ]
  },
  {
   "cell_type": "markdown",
   "id": "b0ec4f53",
   "metadata": {},
   "source": []
  },
  {
   "cell_type": "code",
   "execution_count": 2,
   "id": "b4de3ebc-3e57-447e-972c-8c08effafe47",
   "metadata": {},
   "outputs": [],
   "source": [
    "response = llm.invoke(\"who is first batman?\")"
   ]
  },
  {
   "cell_type": "code",
   "execution_count": 3,
   "id": "4a59084f-e6ae-4dbf-a7de-fe9660a36bc6",
   "metadata": {},
   "outputs": [
    {
     "name": "stdout",
     "output_type": "stream",
     "text": [
      "The first Batman is Bob Kane and Bill Finger's creation, but the first actor to portray Batman on screen was Lewis Wilson in the 1943 film serial 'Batman.'\n"
     ]
    }
   ],
   "source": [
    "print(response.content)"
   ]
  },
  {
   "cell_type": "code",
   "execution_count": null,
   "id": "05c5a28b-8f09-45b9-b1f5-0d89a03242f2",
   "metadata": {},
   "outputs": [],
   "source": []
  }
 ],
 "metadata": {
  "kernelspec": {
   "display_name": ".venv",
   "language": "python",
   "name": "python3"
  },
  "language_info": {
   "codemirror_mode": {
    "name": "ipython",
    "version": 3
   },
   "file_extension": ".py",
   "mimetype": "text/x-python",
   "name": "python",
   "nbconvert_exporter": "python",
   "pygments_lexer": "ipython3",
   "version": "3.13.7"
  }
 },
 "nbformat": 4,
 "nbformat_minor": 5
}
