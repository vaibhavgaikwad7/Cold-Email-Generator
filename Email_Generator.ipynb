{
 "cells": [
  {
   "cell_type": "code",
   "execution_count": 1,
   "id": "883038ca-10ee-4bfb-afd8-cbed2a9d85b9",
   "metadata": {},
   "outputs": [],
   "source": [
    "from langchain_groq import ChatGroq\n",
    "\n",
    "llm = ChatGroq(\n",
    "    model_name=\"llama-3.1-8b-instant\",\n",
    "    temperature=0,\n",
    "    groq_api_key='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'\n",
    ")"
   ]
  },
  {
   "cell_type": "code",
   "execution_count": 2,
   "id": "bdcfe310-7b32-4a9b-b550-5eafe900551b",
   "metadata": {},
   "outputs": [
    {
     "name": "stdout",
     "output_type": "stream",
     "text": [
      "Note: you may need to restart the kernel to use updated packages.\n"
     ]
    },
    {
     "name": "stderr",
     "output_type": "stream",
     "text": [
      "\n",
      "[notice] A new release of pip is available: 25.0.1 -> 25.1.1\n",
      "[notice] To update, run: C:\\Users\\gaikw\\AppData\\Local\\Microsoft\\WindowsApps\\PythonSoftwareFoundation.Python.3.13_qbz5n2kfra8p0\\python.exe -m pip install --upgrade pip\n"
     ]
    }
   ],
   "source": [
    "%pip install -qU langchain-community beautifulsoup4"
   ]
  },
  {
   "cell_type": "code",
   "execution_count": 3,
   "id": "b3ebbe60-61ad-4122-b7d2-04fac2a7c05c",
   "metadata": {},
   "outputs": [
    {
     "name": "stderr",
     "output_type": "stream",
     "text": [
      "USER_AGENT environment variable not set, consider setting it to identify your requests.\n",
      "Fetching pages: 100%|##########| 1/1 [00:00<00:00,  2.42it/s]\n"
     ]
    }
   ],
   "source": [
    "import bs4\n",
    "from langchain_community.document_loaders import WebBaseLoader\n",
    "\n",
    "page_url = \"https://python.langchain.com/docs/how_to/chatbots_memory/\"\n",
    "\n",
    "loader = WebBaseLoader(web_paths=[page_url])\n",
    "docs = []\n",
    "async for doc in loader.alazy_load():\n",
    "    docs.append(doc)\n",
    "\n",
    "assert len(docs) == 1\n",
    "doc = docs[0]"
   ]
  },
  {
   "cell_type": "code",
   "execution_count": 4,
   "id": "564b2705-526e-4285-bf06-57826d5eec55",
   "metadata": {},
   "outputs": [
    {
     "name": "stdout",
     "output_type": "stream",
     "text": [
      "Staff, Data Scientist | Walmart Careers             \n",
      "\n",
      "\n",
      "\n",
      "\n",
      "\n",
      "\n",
      "\n",
      "\n",
      "\n",
      "\n",
      "\n",
      "\n",
      "\n",
      "\n",
      "\n",
      "  \n",
      "\n",
      "    Careers    All Career Areas  Back  Stores & Clubs  Sam’s Club Jobs  Sam’s Club Management Jobs  Walmart Management Jobs  Walmart Store Jobs   Distribution, Fulfillment, & Drivers  Distribution and Fulfillment Centers  Drivers & Transportation  Fleet Maintenance  Flex Associate  Manufacturing   Healthcare  Corporate Healthcare Roles  Optical  Pharmacy   Technology  Cybersecurity  Data Science and Analytics  Information Technology  Project and Program Management - Technology  Software Development and Engineering  UX Design  View all Technology   Corporate  Accounting and Finance  Administrative and Support Services  Asset Protection  Aviation and Travel  Business Operations  Corporate Affairs and Communications  Customer Service and Call Center  Data Analytics and Business Intelligence  Engineering  Ethics and Compliance  Global Investigations and Security  Human Resources  Installation, Maintenance and Utilities  Legal  Marketing and Customer Insights  Merchandising and Online Operations  Product Management  Project and Program Management - PMO  Real Estate, Construction and Realty Execution  Supply Chain and Logistics  View all Corporate     Locations  Back  Northwest Arkansas  Silicon Valley  DC Metro Area  India  International    Culture  Back  Values  History  Belonging  Working at Walmart    Impact  Back  Sustainability  Community  America at Work    Students   Military   Login Back  Supply Chain  Hourly   Management   Transportation & Drivers    Corporate  Home Office    Sam's Club  Hourly   Management    Walmart Stores  Hourly   Management            Staff, Data Scientist   Share this position        Staff, Data Scientist Apply  Apply  Location BENTONVILLE, AR   Career Area Data Analytics and Business Intelligence   Job Function Data Science   Employment Type Regular/Permanent   Position Type Salary   Requisition WD2193135    What you'll do  at   Position Summary...Working at Sam’s Club means a career without boundaries. There’s always room to grow, to take on another challenge, to roll up your sleeves and contribute, and to find professional rewards for your hard work. Yes, we are a division of the Fortune #1 company, Walmart, Inc. But you’ll quickly find that we’re a company that wants you to feel comfortable bringing your whole self to work. A career at Sam’s Club is where the world’s most complex challenges meet a kinder way of life. Our mission spreads far beyond the walls of our clubs. Join us and you'll discover why our company is a world leader in belonging, sustainability, and community involvement. From day one, you’ll be empowered and equipped to do the best work of your life.What you'll do...The Staff Data Scientist will provide and support the implementation of business solutions by building relationships, identifying business needs, and carrying out processes and practices. The role is in Bentonville, Arkansas (not open to remote candidates) In this fast-paced role, you’ll analyze live metrics, develop dashboards and models, and deliver actionable insights that directly influence overall club fulfilment and last-mile delivery execution. You'll collaborate with complex cross-functional teams to solve problems at scale and help shape how Sam’s responds to dynamic operational challenges. This is a high-visibility role built for analytical thinkers who thrive under pressure.Business Partnerships:Support senior leadership and provide insights on challenges and subsequent solutions to the issues.Identify and focus key areas of businesses and provide process flow map on how to achieve themPrepare initial presentation to communicate strategic recommendations based on research and data analysis.Review the findings based on the feedback received from partners and provide insights based on the audienceData Collection and Analysis: In depth understanding of building data pipelines, data lakes etc in addition to being knowledgeable in SQL, Python and PowerBIAddress business problems by understanding the data sources location, integrate the data, perform subsequent analysis using SQL, Python and subsequently visualize the findings on a PowerBi dashboard.Develop processes for the team so they can monitor and flag any outliers that the data represents.Conduct exploratory analysis and inform team and counterparts of the findings.Model Development: Build and manage parts of algorithmic products/models and ensure segment aligns with overall product goals after verification with the existing tools.Use the existing Walmart/Sam’s tools to verify the findings and run the simulations to test the thesis.Formulate technical problems and solutions for data-related challenges.Develop and implement algorithms for data analysis and modeling.Proof of Concept and Testing:Lead the pilot program across network. Understand the gaps and provide solution for implementations across networkPartner with stakeholders such as Business, Software Engineering, Data Science and Operation teamsGenerate new ideas as an output of research, apply knowledge to come up with new information, and contribute to proof-of-concepts for projects.Data Quality Management: Develop and implement data governance policies and procedures.Monitor data quality metrics and proactively identify and address issues.Technical Skillsets:PythonSQLGCPPowerBIAIYou’ll sweep us off our feet if you Python, SQL, GCP and PowerBI expertisePresentation and Verbal communication skillsPrevious Fulfilment experienceAt Sam's Club, we offer competitive pay as well as performance-based bonus awards and other great benefits for a happier mind, body, and wallet!‎ - Health benefits include medical, vision and dental coverage‎ - Financial benefits include 401(k), stock purchase and company-paid life insurance‎ - Paid time off benefits include PTO, parental leave, family care leave, bereavement, jury duty, and voting.  You will also receive PTO and/or PPTO that can be used for vacation, sick leave, holidays, or other purposes. The amount you receive depends on your job classification and length of employment. It will meet or exceed the requirements of paid sick leave laws, where applicable.‎ For information about PTO, see https://one.walmart.com/notices.‎ - Other benefits include short-term and long-term disability, company discounts, Military Leave Pay, adoption and surrogacy expense reimbursement, and more.‎ Live Better U is a company paid education benefit program for full-time and part-time associates in Walmart and Sam's Club facilities. Programs range from high school completion to bachelor's degrees, including English Language Learning and short-form certificates. Tuition, books, and fees are completely paid for by Walmart.‎ Eligibility requirements apply to some benefits and may depend on your job classification and length of employment. Benefits are subject to change and may be subject to a specific plan or program terms.‎ For information about benefits and eligibility, see One.Walmart.‎ The annual salary range for this position is $110,000.00-$220,000.00‎ Additional compensation includes annual or quarterly performance bonuses.‎ ‎ ‎ ‎ ‎ Minimum Qualifications...Outlined below are the required minimum qualifications for this position. If none are listed, there are no minimum qualifications. Option 1: Bachelors degree in Statistics, Economics, Analytics, Mathematics, Computer Science, Information Technology or related field and 4 years' experience in an analytics related field. Option 2: Masters degree in Statistics, Economics, Analytics, Mathematics, Computer Science, Information Technology or related field and 2 years' experience in an analytics related field. Option 3: 6 years' experience in an analytics or related fieldPreferred Qualifications...Outlined below are the optional preferred qualifications for this position. If none are listed, there are no preferred qualifications.Data science, machine learning, optimization models, PhD in Machine Learning, Computer Science, Information Technology, Operations Research, Statistics, Applied Mathematics, Econometrics, Successful completion of one or more assessments in Python, Spark, Scala, or R, Using open source frameworks (for example, scikit learn, tensorflow, torch), We value candidates with a background in creating inclusive digital experiences, demonstrating knowledge in implementing Web Content Accessibility Guidelines (WCAG) 2.2 AA standards, assistive technologies, and integrating digital accessibility seamlessly. The ideal candidate would have knowledge of accessibility best practices and join us as we continue to create accessible products and services following Walmart’s accessibility standards and guidelines for supporting an inclusive culture.Primary Location...2101 Se Simple Savings Dr,  Bentonville, AR 72712-4304, United States of America       About Sam's Club Sam Walton opened the first Sam's Club in 1983 to meet a growing need among customers who wanted to buy merchandise in bulk. Since then, Sam's Club has grown rapidly, opening more than 600 clubs in the U.S. and 100 clubs internationally. By offering affordable, wholesale merchandise to members, Sam's Club helps make saving simple for families and small business owners.  Sam's Club employs about 110,000 associates in the U.S. The average club is 134,000 square feet and offers bulk groceries and general merchandise. Most clubs also have specialty services, such as a pharmacy, an optical department, a photo center, or a tire and battery center.  Sam’s Club is an Equal Opportunity Employer- By Choice. We believe we are best equipped to help our associates, customers, and the communities we serve live better when we really know them. That means understanding, respecting, and valuing unique styles, experiences, identities, abilities, ideas and opinions- while being welcoming of all people.   \"At Walmart, you have the support you need at any given moment no matter the circumstance.\" — Shelby, Project Analyst Hello, NW ArkansasWith over 200 miles of trails, an emerging locally-sourced food scene, the world-renowned Crystal Bridges Museum—NWA has something for everyone. Discover NW Arkansas          ArtCrystal Bridges MuseumCelebrate the American spirit in a setting that unites the beauty of art and the power of nature.     CultureWalton Arts CenterArkansas' premiere center for visual arts and entertainment.     EducationThe AmazeumAn interactive children's museum that's fun for the whole family.             CommuneBotanical Gardens 42 acres of premiere public garden space.     ExploreDevil's Den State ParkLocated on 2,500 acres, Devil's Den State Park is the perfect place to explore Arkansas' natural beauty.     come togetherFayetteville SquareThe best of shopping and restaurants, right in the heart of Fayetteville.          All the benefits you need for you and your family  Multiple health plan options, including vision & dental plans for you & dependents  Free Membership and discounts in fresh produce  Financial benefits including 401(k), stock purchase plans, life insurance and more  Paid education assistance with college degrees through our Live Better U program  Parental Leave  Pay during military service  Paid time off - to include vacation, sick leave and parental leave  Short-term and long-term disability for when you can't work because of injury, illness, or childbirth    Eligibility requirements apply to some benefits and may depend on your job classification and length of employment. Benefits are subject to change and may be subject to specific plan or program terms. For information about benefits and eligibility, see One.Walmart.com/Benefits.  Frequently asked questions  On average, how long does it take to fill out an application?On average, it takes 20-30 minutes to complete your application for the first time. Subsequent applications will take less time to apply as our system saves some of your application information. Please note that some positions require the completion of assessments in order to receive consideration for that role. Those would take additional time.  Can I change my application after submitting?No, you cannot change your application after submitting, so please make sure that everything is finalized before you hit the submit button.  How do you protect my personal information?Processing of information on paper is minimal, and Walmart processes application information using an applicant tracking system (ATS). Access to the data within the ATS is restricted to authorized personnel, and the system itself is held to high security standards by Walmart.  What are the recommended Internet Browsers for applying for open roles?We recommend Google Chrome 12+ for the best user experience. However, the following browsers may also be used:Firefox 115+Microsoft Edge 44+Safari 5.0+   See All FAQs  Recently viewed jobs    FAQ   Sitemap   Corporate   Terms & Conditions   Privacy Policy   Notice at Collection           ©2025 Walmart, Inc. is an Equal Opportunity Employer- By Choice.   We believe we are best equipped to help our associates, customers, and the communities we serve live better when we really know them. That means understanding, respecting, and valuing unique styles, experiences, identities, abilities, ideas and opinions- while welcoming all people. Walmart Inc. participates in E-Verify. Learn more about   applicant rights under Federal Employment Laws.          \n",
      "\n",
      "\n",
      "\n",
      "\n",
      "\n",
      "\n",
      "\n",
      "\n",
      "\n",
      "\n",
      "\n",
      "\n",
      " \n"
     ]
    }
   ],
   "source": [
    "from langchain_community.document_loaders import WebBaseLoader\n",
    "\n",
    "loader = WebBaseLoader(\"https://careers.walmart.com/us/jobs/WD2193135-staff-data-scientist\")\n",
    "page_data = loader.load().pop().page_content\n",
    "print(page_data)"
   ]
  },
  {
   "cell_type": "code",
   "execution_count": 5,
   "id": "13561eaa-8812-4cf8-b3df-d46b457ed281",
   "metadata": {},
   "outputs": [
    {
     "data": {
      "text/plain": [
       "str"
      ]
     },
     "execution_count": 5,
     "metadata": {},
     "output_type": "execute_result"
    }
   ],
   "source": [
    "from langchain_core.prompts import PromptTemplate\n",
    "\n",
    "prompt_extract = PromptTemplate.from_template(\n",
    "        \"\"\"\n",
    "        ### SCRAPED TEXT FROM WEBSITE:\n",
    "        {page_data}\n",
    "        ### INSTRUCTION:\n",
    "        The scraped text is from the career's page of a website.\n",
    "        Your job is to extract the job postings and return them in JSON format containing the \n",
    "        following keys: `role`, `experience`, `skills` and `description`.\n",
    "        Only return the valid JSON.\n",
    "        ### VALID JSON (NO PREAMBLE):    \n",
    "        \"\"\"\n",
    ")\n",
    "\n",
    "chain_extract = prompt_extract | llm \n",
    "res = chain_extract.invoke(input={'page_data':page_data})\n",
    "type(res.content)"
   ]
  },
  {
   "cell_type": "code",
   "execution_count": 6,
   "id": "29461230-e193-4312-ad98-5e6e2c130823",
   "metadata": {},
   "outputs": [
    {
     "data": {
      "text/plain": [
       "[{'role': 'Staff, Data Scientist',\n",
       "  'experience': {'required': [\"4 years' experience in an analytics related field\",\n",
       "    \"2 years' experience in an analytics related field\",\n",
       "    \"6 years' experience in an analytics or related field\"],\n",
       "   'optional': ['Data science, machine learning, optimization models, PhD in Machine Learning, Computer Science, Information Technology, Operations Research, Statistics, Applied Mathematics, Econometrics, Successful completion of one or more assessments in Python, Spark, Scala, or R, Using open source frameworks (for example, scikit learn, tensorflow, torch)']},\n",
       "  'skills': {'required': ['Python', 'SQL', 'GCP', 'PowerBI'],\n",
       "   'optional': ['Data science, machine learning, optimization models, PhD in Machine Learning, Computer Science, Information Technology, Operations Research, Statistics, Applied Mathematics, Econometrics, Successful completion of one or more assessments in Python, Spark, Scala, or R, Using open source frameworks (for example, scikit learn, tensorflow, torch)']},\n",
       "  'description': \"The Staff Data Scientist will provide and support the implementation of business solutions by building relationships, identifying business needs, and carrying out processes and practices. The role is in Bentonville, Arkansas (not open to remote candidates) In this fast-paced role, you’ll analyze live metrics, develop dashboards and models, and deliver actionable insights that directly influence overall club fulfilment and last-mile delivery execution. You'll collaborate with complex cross-functional teams to solve problems at scale and help shape how Sam’s responds to dynamic operational challenges. This is a high-visibility role built for analytical thinkers who thrive under pressure.\"}]"
      ]
     },
     "execution_count": 6,
     "metadata": {},
     "output_type": "execute_result"
    }
   ],
   "source": [
    "from langchain_core.output_parsers import JsonOutputParser\n",
    "\n",
    "json_parser = JsonOutputParser()\n",
    "json_res = json_parser.parse(res.content)\n",
    "json_res"
   ]
  },
  {
   "cell_type": "code",
   "execution_count": 7,
   "id": "8d8feab8-4059-415a-8905-d9716b91bb8c",
   "metadata": {},
   "outputs": [
    {
     "data": {
      "text/plain": [
       "list"
      ]
     },
     "execution_count": 7,
     "metadata": {},
     "output_type": "execute_result"
    }
   ],
   "source": [
    "type(json_res)"
   ]
  },
  {
   "cell_type": "code",
   "execution_count": 8,
   "id": "180ba5ac-0819-441f-bd4c-fa0ea06f6261",
   "metadata": {},
   "outputs": [
    {
     "name": "stdout",
     "output_type": "stream",
     "text": [
      "✅ Extracted job posting:\n",
      "{'role': 'Staff, Data Scientist', 'experience': {'required': [\"4 years' experience in an analytics related field\", \"2 years' experience in an analytics related field\", \"6 years' experience in an analytics or related field\"], 'optional': ['Data science, machine learning, optimization models, PhD in Machine Learning, Computer Science, Information Technology, Operations Research, Statistics, Applied Mathematics, Econometrics, Successful completion of one or more assessments in Python, Spark, Scala, or R, Using open source frameworks (for example, scikit learn, tensorflow, torch)']}, 'skills': {'required': ['Python', 'SQL', 'GCP', 'PowerBI'], 'optional': ['Data science, machine learning, optimization models, PhD in Machine Learning, Computer Science, Information Technology, Operations Research, Statistics, Applied Mathematics, Econometrics, Successful completion of one or more assessments in Python, Spark, Scala, or R, Using open source frameworks (for example, scikit learn, tensorflow, torch)']}, 'description': \"The Staff Data Scientist will provide and support the implementation of business solutions by building relationships, identifying business needs, and carrying out processes and practices. The role is in Bentonville, Arkansas (not open to remote candidates) In this fast-paced role, you’ll analyze live metrics, develop dashboards and models, and deliver actionable insights that directly influence overall club fulfilment and last-mile delivery execution. You'll collaborate with complex cross-functional teams to solve problems at scale and help shape how Sam’s responds to dynamic operational challenges. This is a high-visibility role built for analytical thinkers who thrive under pressure.\"}\n"
     ]
    }
   ],
   "source": [
    "\n",
    "json_parser = JsonOutputParser()\n",
    "\n",
    "try:\n",
    "    json_res = json_parser.parse(res.content)\n",
    "\n",
    "    # Flatten result if returned as a single-item list\n",
    "    if isinstance(json_res, list) and len(json_res) == 1:\n",
    "        json_res = json_res[0]\n",
    "\n",
    "    print(\"✅ Extracted job posting:\")\n",
    "    print(json_res)\n",
    "\n",
    "except Exception as e:\n",
    "    print(\"❌ Failed to parse LLM response:\", e)\n",
    "    print(\"Raw output:\")\n",
    "    print(res.content)\n"
   ]
  },
  {
   "cell_type": "code",
   "execution_count": 9,
   "id": "27a9e97a-84f5-437a-8260-a31a9082dce7",
   "metadata": {},
   "outputs": [
    {
     "data": {
      "text/plain": [
       "dict"
      ]
     },
     "execution_count": 9,
     "metadata": {},
     "output_type": "execute_result"
    }
   ],
   "source": [
    "type(json_res)"
   ]
  },
  {
   "cell_type": "code",
   "execution_count": 10,
   "id": "3cbc483b-4904-4274-b392-150a14f28558",
   "metadata": {},
   "outputs": [
    {
     "name": "stdout",
     "output_type": "stream",
     "text": [
      "Defaulting to user installation because normal site-packages is not writeable\n",
      "Requirement already satisfied: pandas in c:\\users\\gaikw\\appdata\\local\\packages\\pythonsoftwarefoundation.python.3.13_qbz5n2kfra8p0\\localcache\\local-packages\\python313\\site-packages (2.2.3)\n",
      "Requirement already satisfied: numpy>=1.26.0 in c:\\users\\gaikw\\appdata\\local\\packages\\pythonsoftwarefoundation.python.3.13_qbz5n2kfra8p0\\localcache\\local-packages\\python313\\site-packages (from pandas) (2.2.6)\n",
      "Requirement already satisfied: python-dateutil>=2.8.2 in c:\\users\\gaikw\\appdata\\local\\packages\\pythonsoftwarefoundation.python.3.13_qbz5n2kfra8p0\\localcache\\local-packages\\python313\\site-packages (from pandas) (2.9.0.post0)\n",
      "Requirement already satisfied: pytz>=2020.1 in c:\\users\\gaikw\\appdata\\local\\packages\\pythonsoftwarefoundation.python.3.13_qbz5n2kfra8p0\\localcache\\local-packages\\python313\\site-packages (from pandas) (2025.2)\n",
      "Requirement already satisfied: tzdata>=2022.7 in c:\\users\\gaikw\\appdata\\local\\packages\\pythonsoftwarefoundation.python.3.13_qbz5n2kfra8p0\\localcache\\local-packages\\python313\\site-packages (from pandas) (2025.2)\n",
      "Requirement already satisfied: six>=1.5 in c:\\users\\gaikw\\appdata\\local\\packages\\pythonsoftwarefoundation.python.3.13_qbz5n2kfra8p0\\localcache\\local-packages\\python313\\site-packages (from python-dateutil>=2.8.2->pandas) (1.17.0)\n",
      "Note: you may need to restart the kernel to use updated packages.\n"
     ]
    },
    {
     "name": "stderr",
     "output_type": "stream",
     "text": [
      "\n",
      "[notice] A new release of pip is available: 25.0.1 -> 25.1.1\n",
      "[notice] To update, run: C:\\Users\\gaikw\\AppData\\Local\\Microsoft\\WindowsApps\\PythonSoftwareFoundation.Python.3.13_qbz5n2kfra8p0\\python.exe -m pip install --upgrade pip\n"
     ]
    }
   ],
   "source": [
    "%pip install pandas"
   ]
  },
  {
   "cell_type": "code",
   "execution_count": 11,
   "id": "63ee61d0-f575-41c5-aa03-f62e4c90be6b",
   "metadata": {},
   "outputs": [
    {
     "data": {
      "text/html": [
       "<div>\n",
       "<style scoped>\n",
       "    .dataframe tbody tr th:only-of-type {\n",
       "        vertical-align: middle;\n",
       "    }\n",
       "\n",
       "    .dataframe tbody tr th {\n",
       "        vertical-align: top;\n",
       "    }\n",
       "\n",
       "    .dataframe thead th {\n",
       "        text-align: right;\n",
       "    }\n",
       "</style>\n",
       "<table border=\"1\" class=\"dataframe\">\n",
       "  <thead>\n",
       "    <tr style=\"text-align: right;\">\n",
       "      <th></th>\n",
       "      <th>Techstack</th>\n",
       "      <th>Links</th>\n",
       "    </tr>\n",
       "  </thead>\n",
       "  <tbody>\n",
       "    <tr>\n",
       "      <th>0</th>\n",
       "      <td>Python, Pandas, NumPy, sqlite3, json</td>\n",
       "      <td>https://github.com/vaibhavgaikwad7/Impact-of-w...</td>\n",
       "    </tr>\n",
       "    <tr>\n",
       "      <th>1</th>\n",
       "      <td>R, Machine Learning</td>\n",
       "      <td>https://github.com/vaibhavgaikwad7/Energy-Cons...</td>\n",
       "    </tr>\n",
       "    <tr>\n",
       "      <th>2</th>\n",
       "      <td>Python, Machine Learning, Scikit-learn, Tensor...</td>\n",
       "      <td>https://github.com/vaibhavgaikwad7/Credibility...</td>\n",
       "    </tr>\n",
       "    <tr>\n",
       "      <th>3</th>\n",
       "      <td>Tableau, SQL</td>\n",
       "      <td>https://github.com/vaibhavgaikwad7/AI-Job-Mark...</td>\n",
       "    </tr>\n",
       "    <tr>\n",
       "      <th>4</th>\n",
       "      <td>Python, Deep Learning, LSTM, Neural Netork</td>\n",
       "      <td>https://github.com/vaibhavgaikwad7/Portfolio-O...</td>\n",
       "    </tr>\n",
       "  </tbody>\n",
       "</table>\n",
       "</div>"
      ],
      "text/plain": [
       "                                           Techstack  \\\n",
       "0               Python, Pandas, NumPy, sqlite3, json   \n",
       "1                                R, Machine Learning   \n",
       "2  Python, Machine Learning, Scikit-learn, Tensor...   \n",
       "3                                       Tableau, SQL   \n",
       "4         Python, Deep Learning, LSTM, Neural Netork   \n",
       "\n",
       "                                               Links  \n",
       "0  https://github.com/vaibhavgaikwad7/Impact-of-w...  \n",
       "1  https://github.com/vaibhavgaikwad7/Energy-Cons...  \n",
       "2  https://github.com/vaibhavgaikwad7/Credibility...  \n",
       "3  https://github.com/vaibhavgaikwad7/AI-Job-Mark...  \n",
       "4  https://github.com/vaibhavgaikwad7/Portfolio-O...  "
      ]
     },
     "execution_count": 11,
     "metadata": {},
     "output_type": "execute_result"
    }
   ],
   "source": [
    "import pandas as pd\n",
    "\n",
    "df = pd.read_csv(\"My_portfolio.csv\")\n",
    "df"
   ]
  },
  {
   "cell_type": "code",
   "execution_count": 12,
   "id": "701f0464-2a04-4cd2-9725-0ef86b39411c",
   "metadata": {},
   "outputs": [],
   "source": [
    "import uuid\n",
    "import chromadb\n",
    "\n",
    "client = chromadb.PersistentClient('vectorstore')\n",
    "collection = client.get_or_create_collection(name=\"portfolio\")\n",
    "\n",
    "if not collection.count():\n",
    "    for _, row in df.iterrows():\n",
    "        collection.add(documents=row[\"Techstack\"],\n",
    "                       metadatas={\"links\": row[\"Links\"]},\n",
    "                       ids=[str(uuid.uuid4())])"
   ]
  },
  {
   "cell_type": "code",
   "execution_count": 13,
   "id": "4288a835-1394-4642-a70c-34dd3812ccd6",
   "metadata": {},
   "outputs": [
    {
     "data": {
      "text/plain": [
       "[[{'links': 'https://github.com/vaibhavgaikwad7/Credibility-Detection-of-Health-Web-Blogs-Using-Explainable-AI'},\n",
       "  {'links': 'https://github.com/vaibhavgaikwad7/Portfolio-Optimization-Using-Bidirectional-CNN-LSTM-with-Attention-Mechanism'}],\n",
       " [{'links': 'https://github.com/vaibhavgaikwad7/Energy-Consumption-Predictor'},\n",
       "  {'links': 'https://github.com/vaibhavgaikwad7/Credibility-Detection-of-Health-Web-Blogs-Using-Explainable-AI'}]]"
      ]
     },
     "execution_count": 13,
     "metadata": {},
     "output_type": "execute_result"
    }
   ],
   "source": [
    "links = collection.query(query_texts=['Experience in Python', 'Experience in Machine Learning'], n_results=2).get('metadatas', [])\n",
    "links"
   ]
  },
  {
   "cell_type": "code",
   "execution_count": 14,
   "id": "aa877292-e3df-40d8-994f-276ec4e451c3",
   "metadata": {},
   "outputs": [
    {
     "data": {
      "text/plain": [
       "{'required': ['Python', 'SQL', 'GCP', 'PowerBI'],\n",
       " 'optional': ['Data science, machine learning, optimization models, PhD in Machine Learning, Computer Science, Information Technology, Operations Research, Statistics, Applied Mathematics, Econometrics, Successful completion of one or more assessments in Python, Spark, Scala, or R, Using open source frameworks (for example, scikit learn, tensorflow, torch)']}"
      ]
     },
     "execution_count": 14,
     "metadata": {},
     "output_type": "execute_result"
    }
   ],
   "source": [
    "job = json_res\n",
    "job['skills']"
   ]
  },
  {
   "cell_type": "code",
   "execution_count": 15,
   "id": "fc388373-4373-4064-b267-5231f7f56760",
   "metadata": {},
   "outputs": [
    {
     "name": "stdout",
     "output_type": "stream",
     "text": [
      "[[{'links': 'https://github.com/vaibhavgaikwad7/Credibility-Detection-of-Health-Web-Blogs-Using-Explainable-AI'}, {'links': 'https://github.com/vaibhavgaikwad7/Portfolio-Optimization-Using-Bidirectional-CNN-LSTM-with-Attention-Mechanism'}], [{'links': 'https://github.com/vaibhavgaikwad7/AI-Job-Market-Trends-in-USA-using-Tableau'}, {'links': 'https://github.com/vaibhavgaikwad7/Energy-Consumption-Predictor'}], [{'links': 'https://github.com/vaibhavgaikwad7/Energy-Consumption-Predictor'}, {'links': 'https://github.com/vaibhavgaikwad7/Portfolio-Optimization-Using-Bidirectional-CNN-LSTM-with-Attention-Mechanism'}], [{'links': 'https://github.com/vaibhavgaikwad7/Energy-Consumption-Predictor'}, {'links': 'https://github.com/vaibhavgaikwad7/AI-Job-Market-Trends-in-USA-using-Tableau'}], [{'links': 'https://github.com/vaibhavgaikwad7/Credibility-Detection-of-Health-Web-Blogs-Using-Explainable-AI'}, {'links': 'https://github.com/vaibhavgaikwad7/Portfolio-Optimization-Using-Bidirectional-CNN-LSTM-with-Attention-Mechanism'}]]\n"
     ]
    }
   ],
   "source": [
    "# Flatten the job skill requirements into a list of query strings\n",
    "skill_queries = job['skills']['required'] + job['skills']['optional']\n",
    "\n",
    "# Query the vector database using those skill phrases\n",
    "links = collection.query(\n",
    "    query_texts=skill_queries,\n",
    "    n_results=2\n",
    ").get('metadatas', [])\n",
    "\n",
    "# Print matched portfolio links\n",
    "print(links)\n"
   ]
  },
  {
   "cell_type": "code",
   "execution_count": 16,
   "id": "e79cbd04-9f96-44a0-9094-fcb697720234",
   "metadata": {},
   "outputs": [
    {
     "name": "stdout",
     "output_type": "stream",
     "text": [
      "Matched portfolio links:\n",
      "- https://github.com/vaibhavgaikwad7/Energy-Consumption-Predictor\n",
      "- https://github.com/vaibhavgaikwad7/Credibility-Detection-of-Health-Web-Blogs-Using-Explainable-AI\n",
      "- https://github.com/vaibhavgaikwad7/Portfolio-Optimization-Using-Bidirectional-CNN-LSTM-with-Attention-Mechanism\n",
      "- https://github.com/vaibhavgaikwad7/AI-Job-Market-Trends-in-USA-using-Tableau\n"
     ]
    }
   ],
   "source": [
    "# Flatten and deduplicate the list of result links\n",
    "flat_links = [item['links'] for sublist in links for item in sublist]\n",
    "unique_links = list(set(flat_links))\n",
    "\n",
    "# Pretty print\n",
    "print(\"Matched portfolio links:\")\n",
    "for link in unique_links:\n",
    "    print(\"-\", link)\n"
   ]
  },
  {
   "cell_type": "code",
   "execution_count": 17,
   "id": "84b55bc8-f48e-45dd-a967-9def3456fb44",
   "metadata": {},
   "outputs": [
    {
     "name": "stdout",
     "output_type": "stream",
     "text": [
      "Subject: Application for Staff Data Scientist Role at Sam's\n",
      "\n",
      "Dear Hiring Manager,\n",
      "\n",
      "I am writing to express my interest in the Staff Data Scientist role at Sam's, as advertised on [Job Board]. With a strong background in data science and a passion for driving business growth through data-driven insights, I am confident that I would be an excellent fit for this position.\n",
      "\n",
      "As a recent graduate of Syracuse University's Master's program in Applied Data Science, I have developed a solid foundation in data analysis, machine learning, and data visualization. My experience as an AI researcher at HeadOn, where I developed and fine-tuned LLMs to generate meeting summaries and classify discussion sentiment, has given me a deep understanding of natural language processing and its applications in real-world scenarios.\n",
      "\n",
      "In my previous role as a Data Science Researcher at NEXIS Student Labs, I built robust ETL pipelines using Python and SQL to process large volumes of medical diagnostic data. I also developed predictive models that improved diagnostic accuracy and early detection rates by 25%. Additionally, I designed interactive Power BI dashboards to visualize patient trends and clinical insights. This experience has equipped me with the skills to extract insights from complex data sets and communicate them effectively to stakeholders.\n",
      "\n",
      "As a Teaching Assistant at Syracuse University, I supported over 90 students in machine learning and forecasting courses using Python and Power BI. This experience has given me a strong understanding of how to break down complex concepts into actionable insights and communicate them effectively to diverse audiences.\n",
      "\n",
      "I am particularly drawn to this role at Sam's because of the opportunity to work with a fast-paced team to analyze live metrics, develop dashboards and models, and deliver actionable insights that directly influence overall club fulfillment and last-mile delivery execution. My experience with GCP, Power BI, and Python makes me a strong candidate for this position.\n",
      "\n",
      "I would like to highlight the following projects from my portfolio that demonstrate my skills and experience:\n",
      "\n",
      "* Credibility Detection of Health Web Blogs Using Explainable AI: This project showcases my ability to develop and fine-tune machine learning models to detect credibility in health web blogs. The project uses explainable AI techniques to provide insights into the decision-making process of the model.\n",
      "* Portfolio Optimization Using Bidirectional CNN-LSTM with Attention Mechanism: This project demonstrates my ability to develop and fine-tune deep learning models to optimize portfolio performance. The project uses attention mechanisms to focus on the most relevant features in the data.\n",
      "\n",
      "You can find more information about these projects on my GitHub page: [https://github.com/vaibhavgaikwad7](https://github.com/vaibhavgaikwad7).\n",
      "\n",
      "I am excited about the opportunity to discuss my application and how I can contribute to the success of Sam's. Please feel free to contact me at your convenience.\n",
      "\n",
      "Thank you for considering my application.\n",
      "\n",
      "Best regards,\n",
      "\n",
      "Vaibhav Gaikwad\n"
     ]
    }
   ],
   "source": [
    "prompt_email = PromptTemplate.from_template(\n",
    "        \"\"\"\n",
    "        ### JOB DESCRIPTION:\n",
    "        {job_description}\n",
    "        \n",
    "        ### INSTRUCTION:\n",
    "        You are Vaibhav, a recently graduated student from Syracuse University - with the degree of Masters in Applied Data Science. \n",
    "        Your job is to write a cold email to the HR of that job description telling that you are fit for this role.\n",
    "        Also add the most relevant ones from the following links to showcase Your's portfolio: {unique_list}\n",
    "        Remember you are Vaibhav, A data enthusiast looking for full time role, Your former experience include 1) AI researcher at HeadOn (description - Developed and fine-tuned LLMs (BERT, GPT) to generate meeting summaries and classify discussion sentiment (positive/negative). Integrated real-time inference into the product using REST APIs, reducing manual note-taking by 80%.Achieved 90%+ accuracy in sentiment detection through iterative model optimization and feedback loops.). \n",
    "        2) Data Science Researcher at NEXIS Student Labs (description - Built robust ETL pipelines using Python and SQL to process large volumes of medical diagnostic data. Developed predictive models that improved diagnostic accuracy and early detection rates by 25%. Designed interactive Power BI dashboards to visualize patient trends and clinical insights.)\n",
    "        3) Teaching Assistant at Syracuse University (description - •\tSupported 90+ students in machine learning and forecasting courses using Python and Power BI.). \n",
    "        Do not provide a preamble.\n",
    "        ### EMAIL (NO PREAMBLE):\n",
    "        \n",
    "        \"\"\"\n",
    "        )\n",
    "\n",
    "chain_email = prompt_email | llm\n",
    "res = chain_email.invoke({\"job_description\": str(job), \"unique_list\": links})\n",
    "print(res.content)"
   ]
  },
  {
   "cell_type": "code",
   "execution_count": null,
   "id": "550b4ffa-758e-4b07-b743-28fcbdbc9a6d",
   "metadata": {},
   "outputs": [],
   "source": []
  }
 ],
 "metadata": {
  "kernelspec": {
   "display_name": "Python 3 (ipykernel)",
   "language": "python",
   "name": "python3"
  },
  "language_info": {
   "codemirror_mode": {
    "name": "ipython",
    "version": 3
   },
   "file_extension": ".py",
   "mimetype": "text/x-python",
   "name": "python",
   "nbconvert_exporter": "python",
   "pygments_lexer": "ipython3",
   "version": "3.13.3"
  }
 },
 "nbformat": 4,
 "nbformat_minor": 5
}
